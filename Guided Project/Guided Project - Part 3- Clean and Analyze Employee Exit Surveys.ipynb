{
 "cells": [
  {
   "cell_type": "markdown",
   "id": "79c70440-7b31-435c-9023-db31b8155334",
   "metadata": {},
   "source": [
    "# Guided Project\n",
    "## About the Data\n",
    "In this guided project, we'll work with exit surveys from employees of the [Department of Education, Training and Employment (DETE)](https://en.wikipedia.org/wiki/Department_of_Education_and_Training_(Queensland) and the Technical and Further Education (TAFE) institute in Queensland, Australia. You can find the DETE exit survey data [here](https://data.gov.au/dataset/ds-qld-fe96ff30-d157-4a81-851d-215f2a0fe26d/details?q=exit%20survey). The original TAFE exit survey data is no longer available. We've made some slight modifications to the original datasets to make them easier to work with, including changing the encoding to UTF-8 (the original ones are encoded using cp1252.)\n",
    "\n",
    "\n",
    "### Purpose Of this project\n",
    "In this project, we'll play the role of data analyst and pretend our stakeholders want to know the following:\n",
    "\n",
    "1. Are employees who only worked for the institutes for a short period of time resigning due to some kind of dissatisfaction? What about employees who have been there longer?\n",
    "2. Are younger employees resigning due to some kind of dissatisfaction? What about older employees?\n",
    "------ \n",
    "They want us to combine the results for both surveys to answer these questions. However, although both used the same survey template, one of them customized some of the answers. In the guided steps, we'll aim to do most of the data cleaning and get you started analyzing the first question.\n",
    "\n"
   ]
  },
  {
   "cell_type": "code",
   "execution_count": 2,
   "id": "96ddc1bd-cd99-43a2-bd76-0a46698a1aaa",
   "metadata": {},
   "outputs": [
    {
     "data": {
      "text/html": [
       "<div>\n",
       "<style scoped>\n",
       "    .dataframe tbody tr th:only-of-type {\n",
       "        vertical-align: middle;\n",
       "    }\n",
       "\n",
       "    .dataframe tbody tr th {\n",
       "        vertical-align: top;\n",
       "    }\n",
       "\n",
       "    .dataframe thead th {\n",
       "        text-align: right;\n",
       "    }\n",
       "</style>\n",
       "<table border=\"1\" class=\"dataframe\">\n",
       "  <thead>\n",
       "    <tr style=\"text-align: right;\">\n",
       "      <th></th>\n",
       "      <th>Record ID</th>\n",
       "      <th>Institute</th>\n",
       "      <th>WorkArea</th>\n",
       "      <th>CESSATION YEAR</th>\n",
       "      <th>Reason for ceasing employment</th>\n",
       "      <th>Contributing Factors. Career Move - Public Sector</th>\n",
       "      <th>Contributing Factors. Career Move - Private Sector</th>\n",
       "      <th>Contributing Factors. Career Move - Self-employment</th>\n",
       "      <th>Contributing Factors. Ill Health</th>\n",
       "      <th>Contributing Factors. Maternity/Family</th>\n",
       "      <th>...</th>\n",
       "      <th>Workplace. Topic:Does your workplace promote a work culture free from all forms of unlawful discrimination?</th>\n",
       "      <th>Workplace. Topic:Does your workplace promote and practice the principles of employment equity?</th>\n",
       "      <th>Workplace. Topic:Does your workplace value the diversity of its employees?</th>\n",
       "      <th>Workplace. Topic:Would you recommend the Institute as an employer to others?</th>\n",
       "      <th>Gender. What is your Gender?</th>\n",
       "      <th>CurrentAge. Current Age</th>\n",
       "      <th>Employment Type. Employment Type</th>\n",
       "      <th>Classification. Classification</th>\n",
       "      <th>LengthofServiceOverall. Overall Length of Service at Institute (in years)</th>\n",
       "      <th>LengthofServiceCurrent. Length of Service at current workplace (in years)</th>\n",
       "    </tr>\n",
       "  </thead>\n",
       "  <tbody>\n",
       "    <tr>\n",
       "      <th>0</th>\n",
       "      <td>6.341330e+17</td>\n",
       "      <td>Southern Queensland Institute of TAFE</td>\n",
       "      <td>Non-Delivery (corporate)</td>\n",
       "      <td>2010.0</td>\n",
       "      <td>Contract Expired</td>\n",
       "      <td>NaN</td>\n",
       "      <td>NaN</td>\n",
       "      <td>NaN</td>\n",
       "      <td>NaN</td>\n",
       "      <td>NaN</td>\n",
       "      <td>...</td>\n",
       "      <td>Yes</td>\n",
       "      <td>Yes</td>\n",
       "      <td>Yes</td>\n",
       "      <td>Yes</td>\n",
       "      <td>Female</td>\n",
       "      <td>26  30</td>\n",
       "      <td>Temporary Full-time</td>\n",
       "      <td>Administration (AO)</td>\n",
       "      <td>1-2</td>\n",
       "      <td>1-2</td>\n",
       "    </tr>\n",
       "    <tr>\n",
       "      <th>1</th>\n",
       "      <td>6.341337e+17</td>\n",
       "      <td>Mount Isa Institute of TAFE</td>\n",
       "      <td>Non-Delivery (corporate)</td>\n",
       "      <td>2010.0</td>\n",
       "      <td>Retirement</td>\n",
       "      <td>-</td>\n",
       "      <td>-</td>\n",
       "      <td>-</td>\n",
       "      <td>-</td>\n",
       "      <td>-</td>\n",
       "      <td>...</td>\n",
       "      <td>Yes</td>\n",
       "      <td>Yes</td>\n",
       "      <td>Yes</td>\n",
       "      <td>Yes</td>\n",
       "      <td>NaN</td>\n",
       "      <td>NaN</td>\n",
       "      <td>NaN</td>\n",
       "      <td>NaN</td>\n",
       "      <td>NaN</td>\n",
       "      <td>NaN</td>\n",
       "    </tr>\n",
       "    <tr>\n",
       "      <th>2</th>\n",
       "      <td>6.341388e+17</td>\n",
       "      <td>Mount Isa Institute of TAFE</td>\n",
       "      <td>Delivery (teaching)</td>\n",
       "      <td>2010.0</td>\n",
       "      <td>Retirement</td>\n",
       "      <td>-</td>\n",
       "      <td>-</td>\n",
       "      <td>-</td>\n",
       "      <td>-</td>\n",
       "      <td>-</td>\n",
       "      <td>...</td>\n",
       "      <td>Yes</td>\n",
       "      <td>Yes</td>\n",
       "      <td>Yes</td>\n",
       "      <td>Yes</td>\n",
       "      <td>NaN</td>\n",
       "      <td>NaN</td>\n",
       "      <td>NaN</td>\n",
       "      <td>NaN</td>\n",
       "      <td>NaN</td>\n",
       "      <td>NaN</td>\n",
       "    </tr>\n",
       "    <tr>\n",
       "      <th>3</th>\n",
       "      <td>6.341399e+17</td>\n",
       "      <td>Mount Isa Institute of TAFE</td>\n",
       "      <td>Non-Delivery (corporate)</td>\n",
       "      <td>2010.0</td>\n",
       "      <td>Resignation</td>\n",
       "      <td>-</td>\n",
       "      <td>-</td>\n",
       "      <td>-</td>\n",
       "      <td>-</td>\n",
       "      <td>-</td>\n",
       "      <td>...</td>\n",
       "      <td>Yes</td>\n",
       "      <td>Yes</td>\n",
       "      <td>Yes</td>\n",
       "      <td>Yes</td>\n",
       "      <td>NaN</td>\n",
       "      <td>NaN</td>\n",
       "      <td>NaN</td>\n",
       "      <td>NaN</td>\n",
       "      <td>NaN</td>\n",
       "      <td>NaN</td>\n",
       "    </tr>\n",
       "    <tr>\n",
       "      <th>4</th>\n",
       "      <td>6.341466e+17</td>\n",
       "      <td>Southern Queensland Institute of TAFE</td>\n",
       "      <td>Delivery (teaching)</td>\n",
       "      <td>2010.0</td>\n",
       "      <td>Resignation</td>\n",
       "      <td>-</td>\n",
       "      <td>Career Move - Private Sector</td>\n",
       "      <td>-</td>\n",
       "      <td>-</td>\n",
       "      <td>-</td>\n",
       "      <td>...</td>\n",
       "      <td>Yes</td>\n",
       "      <td>Yes</td>\n",
       "      <td>Yes</td>\n",
       "      <td>Yes</td>\n",
       "      <td>Male</td>\n",
       "      <td>41  45</td>\n",
       "      <td>Permanent Full-time</td>\n",
       "      <td>Teacher (including LVT)</td>\n",
       "      <td>3-4</td>\n",
       "      <td>3-4</td>\n",
       "    </tr>\n",
       "  </tbody>\n",
       "</table>\n",
       "<p>5 rows × 72 columns</p>\n",
       "</div>"
      ],
      "text/plain": [
       "      Record ID                              Institute  \\\n",
       "0  6.341330e+17  Southern Queensland Institute of TAFE   \n",
       "1  6.341337e+17            Mount Isa Institute of TAFE   \n",
       "2  6.341388e+17            Mount Isa Institute of TAFE   \n",
       "3  6.341399e+17            Mount Isa Institute of TAFE   \n",
       "4  6.341466e+17  Southern Queensland Institute of TAFE   \n",
       "\n",
       "                   WorkArea  CESSATION YEAR Reason for ceasing employment  \\\n",
       "0  Non-Delivery (corporate)          2010.0              Contract Expired   \n",
       "1  Non-Delivery (corporate)          2010.0                    Retirement   \n",
       "2       Delivery (teaching)          2010.0                    Retirement   \n",
       "3  Non-Delivery (corporate)          2010.0                   Resignation   \n",
       "4       Delivery (teaching)          2010.0                   Resignation   \n",
       "\n",
       "  Contributing Factors. Career Move - Public Sector   \\\n",
       "0                                                NaN   \n",
       "1                                                  -   \n",
       "2                                                  -   \n",
       "3                                                  -   \n",
       "4                                                  -   \n",
       "\n",
       "  Contributing Factors. Career Move - Private Sector   \\\n",
       "0                                                NaN    \n",
       "1                                                  -    \n",
       "2                                                  -    \n",
       "3                                                  -    \n",
       "4                       Career Move - Private Sector    \n",
       "\n",
       "  Contributing Factors. Career Move - Self-employment  \\\n",
       "0                                                NaN    \n",
       "1                                                  -    \n",
       "2                                                  -    \n",
       "3                                                  -    \n",
       "4                                                  -    \n",
       "\n",
       "  Contributing Factors. Ill Health Contributing Factors. Maternity/Family  \\\n",
       "0                              NaN                                    NaN   \n",
       "1                                -                                      -   \n",
       "2                                -                                      -   \n",
       "3                                -                                      -   \n",
       "4                                -                                      -   \n",
       "\n",
       "   ...  \\\n",
       "0  ...   \n",
       "1  ...   \n",
       "2  ...   \n",
       "3  ...   \n",
       "4  ...   \n",
       "\n",
       "  Workplace. Topic:Does your workplace promote a work culture free from all forms of unlawful discrimination?  \\\n",
       "0                                                Yes                                                            \n",
       "1                                                Yes                                                            \n",
       "2                                                Yes                                                            \n",
       "3                                                Yes                                                            \n",
       "4                                                Yes                                                            \n",
       "\n",
       "  Workplace. Topic:Does your workplace promote and practice the principles of employment equity?  \\\n",
       "0                                                Yes                                               \n",
       "1                                                Yes                                               \n",
       "2                                                Yes                                               \n",
       "3                                                Yes                                               \n",
       "4                                                Yes                                               \n",
       "\n",
       "  Workplace. Topic:Does your workplace value the diversity of its employees?  \\\n",
       "0                                                Yes                           \n",
       "1                                                Yes                           \n",
       "2                                                Yes                           \n",
       "3                                                Yes                           \n",
       "4                                                Yes                           \n",
       "\n",
       "  Workplace. Topic:Would you recommend the Institute as an employer to others?  \\\n",
       "0                                                Yes                             \n",
       "1                                                Yes                             \n",
       "2                                                Yes                             \n",
       "3                                                Yes                             \n",
       "4                                                Yes                             \n",
       "\n",
       "  Gender. What is your Gender? CurrentAge. Current Age  \\\n",
       "0                       Female                  26  30   \n",
       "1                          NaN                     NaN   \n",
       "2                          NaN                     NaN   \n",
       "3                          NaN                     NaN   \n",
       "4                         Male                  41  45   \n",
       "\n",
       "  Employment Type. Employment Type Classification. Classification  \\\n",
       "0              Temporary Full-time            Administration (AO)   \n",
       "1                              NaN                            NaN   \n",
       "2                              NaN                            NaN   \n",
       "3                              NaN                            NaN   \n",
       "4              Permanent Full-time        Teacher (including LVT)   \n",
       "\n",
       "  LengthofServiceOverall. Overall Length of Service at Institute (in years)  \\\n",
       "0                                                1-2                          \n",
       "1                                                NaN                          \n",
       "2                                                NaN                          \n",
       "3                                                NaN                          \n",
       "4                                                3-4                          \n",
       "\n",
       "  LengthofServiceCurrent. Length of Service at current workplace (in years)  \n",
       "0                                                1-2                         \n",
       "1                                                NaN                         \n",
       "2                                                NaN                         \n",
       "3                                                NaN                         \n",
       "4                                                3-4                         \n",
       "\n",
       "[5 rows x 72 columns]"
      ]
     },
     "execution_count": 2,
     "metadata": {},
     "output_type": "execute_result"
    }
   ],
   "source": [
    "# Lets import the Support Materials & Data\n",
    "\n",
    "import pandas as pd\n",
    "import numpy as np\n",
    "import matplotlib.pyplot as plt\n",
    "\n",
    "dete_survey = pd.read_csv(\"dete_survey.csv\")\n",
    "tafe_survey= pd.read_csv(\"tafe_survey.csv\")\n",
    "\n",
    "#lets explore the head of column on each (5)\n",
    "\n",
    "dete_survey.head(5)\n",
    "tafe_survey.head(5)\n",
    "\n"
   ]
  },
  {
   "cell_type": "markdown",
   "id": "e04b49ea-1f69-4002-babb-9dbfa2051f35",
   "metadata": {},
   "source": [
    "📋 About the Dataset:\n",
    "\n",
    "📌 Below is a preview of a couple columns we'll work with from the `dete_survey.csv`:\n",
    "\n",
    "- 💼 ID: An id used to identify the participant of the survey\n",
    "- 📅 SeparationType: The reason why the person's employment ended\n",
    "- 📅 Cease Date: The year or month the person's employment ended\n",
    "- 📅 DETE Start Date: The year the person began employment with the DETE\n",
    "\n",
    "📌 Below is a preview of a couple columns we'll work with from the `tafe_survey.csv`:\n",
    "\n",
    "- 💼 Record ID: An id used to identify the participant of the survey0-- \n",
    "- 📅 Reason for ceasing employment: The reason why the person's employment ended\n",
    "- ⏰ LengthofServiceOverall. Overall Length of Service at Institute (in years): The length of the person's employment (in years)\n",
    "\n",
    "\n",
    "\n"
   ]
  },
  {
   "cell_type": "code",
   "execution_count": 3,
   "id": "c7442016-32cb-4e2c-a59e-64020f3cfb75",
   "metadata": {},
   "outputs": [
    {
     "data": {
      "text/plain": [
       "Education Queensland                          54\n",
       "Information and Technologies                  26\n",
       "Training and Tertiary Education Queensland    12\n",
       "Other                                         11\n",
       "Human Resources                                6\n",
       "Corporate Strategy and Peformance              5\n",
       "Early Childhood Education and Care             3\n",
       "Policy, Research, Legislation                  2\n",
       "Infrastructure                                 2\n",
       "Corporate Procurement                          1\n",
       "Finance                                        1\n",
       "Pacific Pines SHS                              1\n",
       "Calliope State School                          1\n",
       "Indigenous Education and Training Futures      1\n",
       "Name: Business Unit, dtype: int64"
      ]
     },
     "execution_count": 3,
     "metadata": {},
     "output_type": "execute_result"
    }
   ],
   "source": [
    "#Lets also explore about the dataframe.info() & the series Value and  issnull\n",
    "dete_survey['Business Unit'].value_counts()\n"
   ]
  },
  {
   "cell_type": "code",
   "execution_count": 4,
   "id": "2196aded-ac51-423d-b0d1-f72b14fd1e16",
   "metadata": {},
   "outputs": [
    {
     "data": {
      "text/plain": [
       "Brisbane North Institute of TAFE         161\n",
       "Southern Queensland Institute of TAFE    142\n",
       "Central Queensland Institute of TAFE     108\n",
       "Sunshine Coast Institute of TAFE          91\n",
       "Tropical North Institute of TAFE          70\n",
       "SkillsTech Australia                      57\n",
       "Southbank Institute of Technology         43\n",
       "Barrier Reef Institute of TAFE            14\n",
       "Mount Isa Institute of TAFE               12\n",
       "Wide Bay Institute of TAFE                 2\n",
       "The Bremer Institute of TAFE               1\n",
       "Metropolitan South Institute of TAFE       1\n",
       "Name: Institute, dtype: int64"
      ]
     },
     "execution_count": 4,
     "metadata": {},
     "output_type": "execute_result"
    }
   ],
   "source": [
    "tafe_survey['Institute'].value_counts()\n"
   ]
  },
  {
   "cell_type": "code",
   "execution_count": 5,
   "id": "069e877f-6da6-4cfc-bc0d-11e26bc787c0",
   "metadata": {},
   "outputs": [
    {
     "data": {
      "text/plain": [
       "Non-Delivery (corporate)    432\n",
       "Delivery (teaching)         270\n",
       "Name: WorkArea, dtype: int64"
      ]
     },
     "execution_count": 5,
     "metadata": {},
     "output_type": "execute_result"
    }
   ],
   "source": [
    "tafe_survey['WorkArea'].value_counts()"
   ]
  },
  {
   "cell_type": "code",
   "execution_count": 6,
   "id": "d5596ce5-04ed-44a6-ba8e-76f2ed33863b",
   "metadata": {},
   "outputs": [
    {
     "data": {
      "text/plain": [
       "Teacher                                                    324\n",
       "Teacher Aide                                               137\n",
       "Public Servant                                             126\n",
       "Cleaner                                                     97\n",
       "Head of Curriculum/Head of Special Education                38\n",
       "Schools Officer                                             24\n",
       "School Administrative Staff                                 16\n",
       "Guidance Officer                                            12\n",
       "Technical Officer                                           11\n",
       "Professional Officer                                         7\n",
       "Other                                                        7\n",
       "School Principal                                             5\n",
       "School Based Professional Staff (Therapist, nurse, etc)      5\n",
       "Deputy Principal                                             4\n",
       "Business Service Manager                                     4\n",
       "Name: Position, dtype: int64"
      ]
     },
     "execution_count": 6,
     "metadata": {},
     "output_type": "execute_result"
    }
   ],
   "source": [
    "dete_survey['Position'].value_counts()\n"
   ]
  },
  {
   "cell_type": "code",
   "execution_count": 7,
   "id": "8710c072-8c8a-4b4c-a5a9-698f4184051a",
   "metadata": {},
   "outputs": [
    {
     "data": {
      "text/plain": [
       "Administration (AO)           293\n",
       "Teacher (including LVT)       201\n",
       "Professional Officer (PO)      33\n",
       "Operational (OO)               24\n",
       "Tutor                          16\n",
       "Workplace Training Officer     11\n",
       "Technical Officer (TO)         10\n",
       "Executive (SES/SO)              6\n",
       "Apprentice                      2\n",
       "Name: Classification. Classification, dtype: int64"
      ]
     },
     "execution_count": 7,
     "metadata": {},
     "output_type": "execute_result"
    }
   ],
   "source": [
    "tafe_survey['Classification. Classification'].value_counts()\n"
   ]
  },
  {
   "cell_type": "code",
   "execution_count": 8,
   "id": "a8847805-9072-4504-aee4-d8b425854e93",
   "metadata": {},
   "outputs": [
    {
     "data": {
      "text/plain": [
       "Metropolitan                135\n",
       "Central Office              130\n",
       "South East                  108\n",
       "Not Stated                  105\n",
       "Darling Downs South West     95\n",
       "Central Queensland           84\n",
       "North Coast                  75\n",
       "North Queensland             53\n",
       "Far North Queensland         37\n",
       "Name: Region, dtype: int64"
      ]
     },
     "execution_count": 8,
     "metadata": {},
     "output_type": "execute_result"
    }
   ],
   "source": [
    "dete_survey['Region'].value_counts()\n"
   ]
  },
  {
   "cell_type": "markdown",
   "id": "763f4df5-e879-45b5-8dbc-0d40c6ed0cfb",
   "metadata": {},
   "source": [
    "# What we Can learn \n",
    "From our work in the previous screen, we can first make the following observations:\n",
    "\n",
    "1. The dete_survey dataframe contains 'Not Stated' values that indicate values are missing, but they aren't represented as NaN.\n",
    "2. Both the dete_survey and tafe_survey dataframes contain many columns that we don't need to complete our analysis.\n",
    "3. Each dataframe contains many of the same columns, but the column names are different.\n",
    "4. There are multiple columns/answers that indicate an employee resigned because they were dissatisfied."
   ]
  },
  {
   "cell_type": "markdown",
   "id": "f9bd58b1-7e4d-457a-a2ec-1f4ffc4b6855",
   "metadata": {},
   "source": [
    "# Part 2 - Setting the scope of the analysis\n",
    "\n",
    "because we dont need some particular column in our dataset, we are choose to tweak and turns for future analyisis"
   ]
  },
  {
   "cell_type": "code",
   "execution_count": 9,
   "id": "3490fbcb-3022-4faf-b0d7-8e8dedac4174",
   "metadata": {},
   "outputs": [
    {
     "name": "stdout",
     "output_type": "stream",
     "text": [
      "Index(['ID', 'SeparationType', 'Cease Date', 'DETE Start Date',\n",
      "       'Role Start Date', 'Position', 'Classification', 'Region',\n",
      "       'Business Unit', 'Employment Status', 'Career move to public sector',\n",
      "       'Career move to private sector', 'Interpersonal conflicts',\n",
      "       'Job dissatisfaction', 'Dissatisfaction with the department',\n",
      "       'Physical work environment', 'Lack of recognition',\n",
      "       'Lack of job security', 'Work location', 'Employment conditions',\n",
      "       'Maternity/family', 'Relocation', 'Study/Travel', 'Ill Health',\n",
      "       'Traumatic incident', 'Work life balance', 'Workload',\n",
      "       'None of the above', 'Gender', 'Age', 'Aboriginal', 'Torres Strait',\n",
      "       'South Sea', 'Disability', 'NESB'],\n",
      "      dtype='object')\n",
      "Index(['Record ID', 'Institute', 'WorkArea', 'CESSATION YEAR',\n",
      "       'Reason for ceasing employment',\n",
      "       'Contributing Factors. Career Move - Public Sector ',\n",
      "       'Contributing Factors. Career Move - Private Sector ',\n",
      "       'Contributing Factors. Career Move - Self-employment',\n",
      "       'Contributing Factors. Ill Health',\n",
      "       'Contributing Factors. Maternity/Family',\n",
      "       'Contributing Factors. Dissatisfaction',\n",
      "       'Contributing Factors. Job Dissatisfaction',\n",
      "       'Contributing Factors. Interpersonal Conflict',\n",
      "       'Contributing Factors. Study', 'Contributing Factors. Travel',\n",
      "       'Contributing Factors. Other', 'Contributing Factors. NONE',\n",
      "       'Gender. What is your Gender?', 'CurrentAge. Current Age',\n",
      "       'Employment Type. Employment Type', 'Classification. Classification',\n",
      "       'LengthofServiceOverall. Overall Length of Service at Institute (in years)',\n",
      "       'LengthofServiceCurrent. Length of Service at current workplace (in years)'],\n",
      "      dtype='object')\n"
     ]
    }
   ],
   "source": [
    "#Read The data s avalues as nan\n",
    "dete_survey=pd.read_csv('dete_survey.csv',na_values='Not Stated')\n",
    "\n",
    "# Asign_new_ date survey\n",
    "\n",
    "dete_survey_updated = dete_survey.drop(dete_survey.columns[28:49],axis=1)\n",
    "tafe_survey_updated=tafe_survey.drop(tafe_survey.columns[17:66],axis=1)\n",
    "\n",
    "\n",
    "#Check that the columns were dropped\n",
    "print(dete_survey_updated.columns)\n",
    "print(tafe_survey_updated.columns)"
   ]
  },
  {
   "cell_type": "markdown",
   "id": "2bb6e0b5-f148-456c-8d2f-aa897cec7291",
   "metadata": {},
   "source": [
    "# The reason /  Why we doing this\n",
    "The reason why we are doing this is because the *DETE survey data had values in some columns that were represented as 'Not Stated'*, which was essentially indicating missing data. We want to ensure that these missing values are properly represented as NaN values in our data so that we can easily work with them using pandas.\n",
    "\n",
    "After reading in the DETE survey data using pd.read_csv(), we use the na_values parameter to replace any instances of 'Not Stated' with NaN values in the resulting DataFrame.\n",
    "\n",
    "Next, we create two new DataFrames: dete_survey_updated and tafe_survey_updated. These new DataFrames are created by dropping columns that are not needed for our analysis from the original DataFrames dete_survey and tafe_survey, respectively."
   ]
  },
  {
   "attachments": {
    "82a11579-e3bb-484d-9aed-bad870afcf67.png": {
     "image/png": "[encoded data removed]"
    }
   },
   "cell_type": "markdown",
   "id": "0f006ac8-c397-44d9-bda0-0cee3eabaa8a",
   "metadata": {},
   "source": [
    "# Part 3 of 11 · Clean Column Names\n",
    "\n",
    "Next, let's turn our attention to the column names. Each dataframe contains many of the same columns, but the column names are different. Below are some of the columns we'd like to use for our final analysis:\n",
    "![image.png](attachment:82a11579-e3bb-484d-9aed-bad870afcf67.png)\n",
    "\n"
   ]
  },
  {
   "cell_type": "code",
   "execution_count": 10,
   "id": "faa5b6a1-2813-4559-a90f-0d768cb59812",
   "metadata": {},
   "outputs": [
    {
     "data": {
      "text/plain": [
       "Index(['id', 'separationtype', 'cease_date', 'dete_start_date',\n",
       "       'role_start_date', 'position', 'classification', 'region',\n",
       "       'business_unit', 'employment_status', 'career_move_to_public_sector',\n",
       "       'career_move_to_private_sector', 'interpersonal_conflicts',\n",
       "       'job_dissatisfaction', 'dissatisfaction_with_the_department',\n",
       "       'physical_work_environment', 'lack_of_recognition',\n",
       "       'lack_of_job_security', 'work_location', 'employment_conditions',\n",
       "       'maternity/family', 'relocation', 'study/travel', 'ill_health',\n",
       "       'traumatic_incident', 'work_life_balance', 'workload',\n",
       "       'none_of_the_above', 'gender', 'age', 'aboriginal', 'torres_strait',\n",
       "       'south_sea', 'disability', 'nesb'],\n",
       "      dtype='object')"
      ]
     },
     "execution_count": 10,
     "metadata": {},
     "output_type": "execute_result"
    }
   ],
   "source": [
    "# Clean the column names\n",
    "dete_survey_updated.columns = dete_survey_updated.columns.str.lower().str.strip().str.replace(' ', '_')\n",
    "\n",
    "# Check that the column names were updated correctly\n",
    "dete_survey_updated.columns"
   ]
  },
  {
   "cell_type": "code",
   "execution_count": 11,
   "id": "6eb35141-5605-4016-886f-df58ca14f57f",
   "metadata": {},
   "outputs": [
    {
     "data": {
      "text/plain": [
       "Index(['id', 'Institute', 'WorkArea', 'cease_date', 'separationtype',\n",
       "       'Contributing Factors. Career Move - Public Sector ',\n",
       "       'Contributing Factors. Career Move - Private Sector ',\n",
       "       'Contributing Factors. Career Move - Self-employment',\n",
       "       'Contributing Factors. Ill Health',\n",
       "       'Contributing Factors. Maternity/Family',\n",
       "       'Contributing Factors. Dissatisfaction',\n",
       "       'Contributing Factors. Job Dissatisfaction',\n",
       "       'Contributing Factors. Interpersonal Conflict',\n",
       "       'Contributing Factors. Study', 'Contributing Factors. Travel',\n",
       "       'Contributing Factors. Other', 'Contributing Factors. NONE', 'gender',\n",
       "       'age', 'employment_status', 'position', 'institute_service',\n",
       "       'role_service'],\n",
       "      dtype='object')"
      ]
     },
     "execution_count": 11,
     "metadata": {},
     "output_type": "execute_result"
    }
   ],
   "source": [
    "# Update column names to match the names in dete_survey_updated\n",
    "mapping = {'Record ID': 'id', 'CESSATION YEAR': 'cease_date', 'Reason for ceasing employment': 'separationtype', 'Gender. What is your Gender?': 'gender', 'CurrentAge. Current Age': 'age',\n",
    "       'Employment Type. Employment Type': 'employment_status',\n",
    "       'Classification. Classification': 'position',\n",
    "       'LengthofServiceOverall. Overall Length of Service at Institute (in years)': 'institute_service',\n",
    "       'LengthofServiceCurrent. Length of Service at current workplace (in years)': 'role_service'}\n",
    "tafe_survey_updated = tafe_survey_updated.rename(mapping, axis = 1)\n",
    "\n",
    "# Check that the specified column names were updated correctly\n",
    "tafe_survey_updated.columns"
   ]
  },
  {
   "cell_type": "markdown",
   "id": "207830f9-d944-4aea-a902-415843846dbf",
   "metadata": {},
   "source": [
    "# The reason/ Why we Doing this - 2\n",
    "Because we eventually want to combine them, we'll have to standardize the column names. \n",
    "\n",
    "Recall that we can use the DataFrame.columns attribute along with vectorized string methods to update all of the columns at once 👌\n",
    "\n"
   ]
  },
  {
   "cell_type": "markdown",
   "id": "f2abe0f3-feee-4b5b-85bf-0bec826f7b8b",
   "metadata": {},
   "source": [
    "# 4 of 11 · Filter the Data\n",
    "In the last screen, we renamed the columns that we'll use in our analysis. Next, let's remove more of the data we don't need.\n",
    "\n",
    "Recall that our end goal is to answer the following question:\n",
    "\n",
    "- Are employees who have only worked for the institutes for a short period of time resigning due to some kind of dissatisfaction? What about employees who have been at the job longer?\n",
    "\n",
    "Hence\n",
    "If we look at the unique values in the `separationtype` columns in each dataframe, we'll see that each contains a couple of different separation types. For this project, we'll only analyze survey respondents who resigned, so their separation type contains the string `Resignation`.\n",
    "\n"
   ]
  },
  {
   "cell_type": "code",
   "execution_count": 261,
   "id": "e33e949d-5e02-48fa-b4fd-0f1eed9ecced",
   "metadata": {},
   "outputs": [
    {
     "data": {
      "text/plain": [
       "Age Retirement                          285\n",
       "Resignation-Other reasons               150\n",
       "Resignation-Other employer               91\n",
       "Resignation-Move overseas/interstate     70\n",
       "Voluntary Early Retirement (VER)         67\n",
       "Ill Health Retirement                    61\n",
       "Other                                    49\n",
       "Contract Expired                         34\n",
       "Termination                              15\n",
       "Name: separationtype, dtype: int64"
      ]
     },
     "execution_count": 281,
     "metadata": {},
     "output_type": "execute_result"
    }
   ],
   "source": [
    "# Lets see the Seperation Type At Date Survey\n",
    "dete_survey_updated['separationtype'].value_counts()\n"
   ]
  },
  {
   "cell_type": "code",
   "execution_count": 262,
   "id": "e7f7ebf1-5b18-410e-9177-3071a8ea9ea0",
   "metadata": {},
   "outputs": [
    {
     "data": {
      "text/plain": [
       "Resignation                 340\n",
       "Contract Expired            127\n",
       "Retrenchment/ Redundancy    104\n",
       "Retirement                   82\n",
       "Transfer                     25\n",
       "Termination                  23\n",
       "Name: separationtype, dtype: int64"
      ]
     },
     "execution_count": 282,
     "metadata": {},
     "output_type": "execute_result"
    }
   ],
   "source": [
    "# Lets see the Seperation Type At Tafe_Survey\n",
    "tafe_survey_updated['separationtype'].value_counts()\n"
   ]
  },
  {
   "cell_type": "code",
   "execution_count": 12,
   "id": "ba4a6c84-2038-4322-9d3b-52551bb2578b",
   "metadata": {},
   "outputs": [
    {
     "data": {
      "text/plain": [
       "Resignation                         311\n",
       "Age Retirement                      285\n",
       "Voluntary Early Retirement (VER)     67\n",
       "Ill Health Retirement                61\n",
       "Other                                49\n",
       "Contract Expired                     34\n",
       "Termination                          15\n",
       "Name: separationtype, dtype: int64"
      ]
     },
     "execution_count": 12,
     "metadata": {},
     "output_type": "execute_result"
    }
   ],
   "source": [
    "# Update all separation types containing the word \"resignation\" to 'Resignation'\n",
    "dete_survey_updated['separationtype'] = dete_survey_updated['separationtype'].str.split('-').str[0]\n",
    "\n",
    "# Check the values in the separationtype column were updated correctly\n",
    "dete_survey_updated['separationtype'].value_counts()"
   ]
  },
  {
   "cell_type": "code",
   "execution_count": 13,
   "id": "9f64b221-badb-421e-b5b8-312dfef22206",
   "metadata": {},
   "outputs": [],
   "source": [
    "# Select only the resignation separation types from each dataframe\n",
    "dete_resignations = dete_survey_updated[dete_survey_updated['separationtype'] == 'Resignation'].copy()\n",
    "tafe_resignations = tafe_survey_updated[tafe_survey_updated['separationtype'] == 'Resignation'].copy()"
   ]
  },
  {
   "cell_type": "code",
   "execution_count": 15,
   "id": "d91567c8-5ca2-47a0-a2e2-330147332a25",
   "metadata": {},
   "outputs": [
    {
     "data": {
      "text/plain": [
       "2012       126\n",
       "2013        74\n",
       "01/2014     22\n",
       "12/2013     17\n",
       "06/2013     14\n",
       "09/2013     11\n",
       "07/2013      9\n",
       "11/2013      9\n",
       "10/2013      6\n",
       "08/2013      4\n",
       "05/2012      2\n",
       "05/2013      2\n",
       "07/2012      1\n",
       "2010         1\n",
       "09/2010      1\n",
       "07/2006      1\n",
       "Name: cease_date, dtype: int64"
      ]
     },
     "execution_count": 15,
     "metadata": {},
     "output_type": "execute_result"
    }
   ],
   "source": [
    "# Check the unique values\n",
    "dete_resignations['cease_date'].value_counts()"
   ]
  },
  {
   "cell_type": "markdown",
   "id": "eec35fd0-93b9-445d-8d1e-e1dfe616edc8",
   "metadata": {},
   "source": [
    "# The reason/ Why we Doing this - 3\n",
    "during the lecturer, we always `i` just want focused on those 3 items `date_survey` and `1` for the `tafe_survey` because we always remember our purpose at the beggining the Analyisis😁\n"
   ]
  },
  {
   "cell_type": "code",
   "execution_count": null,
   "id": "ce08ba38-40b0-4d3d-85c7-eb9335c30724",
   "metadata": {},
   "outputs": [],
   "source": []
  },
  {
   "cell_type": "markdown",
   "id": "b5503899-a598-43a5-b124-ecfbe63ddd9e",
   "metadata": {},
   "source": [
    "# 5 of 11 · Verify the Data\n",
    "\n",
    "## think to remember 📕\n",
    "before we start cleaning and manipulating the rest of our data, let's verify that the data doesn't contain any major inconsistencies.\n",
    "(to the best of our knowledge). When you're working with real world data, don't assume that the data you're analyzing isn't corrupted in some way!\n",
    "\n",
    "### Analyze Further\n",
    "\n",
    "In this step, we'll focus on verifying that the years in the `cease_date` and `dete_start_date columns` make sense. However, we encourage you to check the data for other issues as well!\n",
    "\n",
    "- Since the `cease_date` is the last year of the person's employment and the `dete_start_date` is the person's first year of employment, it wouldn't make sense to have years after the current date.\n",
    "- Given that most people in this field start working in their 20s, it's also unlikely that the `dete_start_date` was before the year 1940.\n",
    "\n",
    "--- \n",
    "If we have many years higher than the current date or lower than 1940, we wouldn't want to continue with our analysis, because it could mean there's something very wrong with the data. If there are a small amount of values that are unrealistically high or low, we can remove them.\n",
    "\n",
    "\n"
   ]
  },
  {
   "cell_type": "code",
   "execution_count": 265,
   "id": "1a31abf1-e687-4f98-b9ec-0215b27de3e0",
   "metadata": {},
   "outputs": [
    {
     "data": {
      "text/plain": [
       "2012       126\n",
       "2013        74\n",
       "01/2014     22\n",
       "12/2013     17\n",
       "06/2013     14\n",
       "09/2013     11\n",
       "07/2013      9\n",
       "11/2013      9\n",
       "10/2013      6\n",
       "08/2013      4\n",
       "05/2012      2\n",
       "05/2013      2\n",
       "07/2012      1\n",
       "2010         1\n",
       "09/2010      1\n",
       "07/2006      1\n",
       "Name: cease_date, dtype: int64"
      ]
     },
     "execution_count": 265,
     "metadata": {},
     "output_type": "execute_result"
    }
   ],
   "source": [
    "# Task 1 - Lets look cease_date column in dete_resignations\n",
    "\n",
    "dete_resignations['cease_date'].value_counts()\n"
   ]
  },
  {
   "cell_type": "markdown",
   "id": "f37b061b-60d6-4c35-ba67-1db78d6c05da",
   "metadata": {},
   "source": [
    "as you can see the result wasnt good enought, lets explore litle bit more with Use vectorized string methods to extract the year.\n"
   ]
  },
  {
   "cell_type": "code",
   "execution_count": 16,
   "id": "a9f6a276-8be9-45b0-b82f-ef77a79220fd",
   "metadata": {},
   "outputs": [
    {
     "data": {
      "text/plain": [
       "2013.0    146\n",
       "2012.0    129\n",
       "2014.0     22\n",
       "2010.0      2\n",
       "2006.0      1\n",
       "Name: cease_date, dtype: int64"
      ]
     },
     "execution_count": 16,
     "metadata": {},
     "output_type": "execute_result"
    }
   ],
   "source": [
    "# Extract the years and convert them to a float type\n",
    "dete_resignations['cease_date'] = dete_resignations['cease_date'].str.split('/').str[-1]\n",
    "dete_resignations['cease_date'] = dete_resignations['cease_date'].astype(\"float\")\n",
    "\n",
    "# Check the values again and look for outliers\n",
    "dete_resignations['cease_date'].value_counts()"
   ]
  },
  {
   "cell_type": "code",
   "execution_count": 17,
   "id": "0657f506-807e-4a33-b407-9aa9d96e8221",
   "metadata": {},
   "outputs": [
    {
     "data": {
      "text/plain": [
       "1987.0     1\n",
       "1975.0     1\n",
       "1984.0     1\n",
       "1971.0     1\n",
       "1973.0     1\n",
       "1972.0     1\n",
       "1963.0     1\n",
       "1977.0     1\n",
       "1982.0     1\n",
       "1974.0     2\n",
       "1983.0     2\n",
       "1976.0     2\n",
       "1985.0     3\n",
       "2001.0     3\n",
       "1986.0     3\n",
       "1995.0     4\n",
       "1988.0     4\n",
       "1991.0     4\n",
       "1989.0     4\n",
       "1993.0     5\n",
       "1980.0     5\n",
       "1990.0     5\n",
       "1997.0     5\n",
       "2002.0     6\n",
       "1998.0     6\n",
       "1996.0     6\n",
       "1992.0     6\n",
       "2003.0     6\n",
       "1994.0     6\n",
       "1999.0     8\n",
       "2000.0     9\n",
       "2013.0    10\n",
       "2006.0    13\n",
       "2009.0    13\n",
       "2004.0    14\n",
       "2005.0    15\n",
       "2010.0    17\n",
       "2007.0    21\n",
       "2012.0    21\n",
       "2008.0    22\n",
       "2011.0    24\n",
       "Name: dete_start_date, dtype: int64"
      ]
     },
     "execution_count": 17,
     "metadata": {},
     "output_type": "execute_result"
    }
   ],
   "source": [
    "dete_resignations['dete_start_date'].value_counts().sort_values()"
   ]
  },
  {
   "cell_type": "code",
   "execution_count": 18,
   "id": "5807ea4d-92f0-4a10-b87c-56cbdf696f3e",
   "metadata": {},
   "outputs": [
    {
     "data": {
      "text/plain": [
       "2009.0      2\n",
       "2013.0     55\n",
       "2010.0     68\n",
       "2012.0     94\n",
       "2011.0    116\n",
       "Name: cease_date, dtype: int64"
      ]
     },
     "execution_count": 18,
     "metadata": {},
     "output_type": "execute_result"
    }
   ],
   "source": [
    "tafe_resignations['cease_date'].value_counts().sort_values()\n"
   ]
  },
  {
   "cell_type": "markdown",
   "id": "2b5d5e2b-cb35-405d-9b5c-81de223fed06",
   "metadata": {},
   "source": [
    "##  Furhter Research\n",
    "lot the values of any numeric columns with a boxplot to identify any values that look wrong. lets tried it!"
   ]
  },
  {
   "cell_type": "code",
   "execution_count": 19,
   "id": "08debb6e-4670-4e1c-96f6-7cb091a3daa6",
   "metadata": {},
   "outputs": [
    {
     "data": {
      "image/png": "[encoded data removed]",
      "text/plain": [
       "<Figure size 432x288 with 1 Axes>"
      ]
     },
     "metadata": {
      "needs_background": "light"
     },
     "output_type": "display_data"
    }
   ],
   "source": [
    "%matplotlib inline\n",
    "\n",
    "from matplotlib import pyplot as plt\n",
    "dete_resignations.boxplot(column=['cease_date','dete_start_date'])\n",
    "plt.show()"
   ]
  },
  {
   "cell_type": "code",
   "execution_count": 20,
   "id": "4a86e098-a89f-461a-adee-4adbc44fedb2",
   "metadata": {},
   "outputs": [
    {
     "data": {
      "text/plain": [
       "array([[<AxesSubplot:title={'center':'cease_date'}>]], dtype=object)"
      ]
     },
     "execution_count": 20,
     "metadata": {},
     "output_type": "execute_result"
    },
    {
     "data": {
      "image/png": "[encoded data removed]",
      "text/plain": [
       "<Figure size 432x288 with 1 Axes>"
      ]
     },
     "metadata": {
      "needs_background": "light"
     },
     "output_type": "display_data"
    }
   ],
   "source": [
    "dete_resignations.hist('cease_date',bins=8)\n"
   ]
  },
  {
   "cell_type": "code",
   "execution_count": 21,
   "id": "b5df697a-1cc0-4aab-9e4d-8ad48099afa9",
   "metadata": {},
   "outputs": [
    {
     "data": {
      "text/plain": [
       "array([[<AxesSubplot:title={'center':'dete_start_date'}>]], dtype=object)"
      ]
     },
     "execution_count": 21,
     "metadata": {},
     "output_type": "execute_result"
    },
    {
     "data": {
      "image/png": "[encoded data removed]",
      "text/plain": [
       "<Figure size 432x288 with 1 Axes>"
      ]
     },
     "metadata": {
      "needs_background": "light"
     },
     "output_type": "display_data"
    }
   ],
   "source": [
    "dete_resignations.hist('dete_start_date',bins=5)\n"
   ]
  },
  {
   "cell_type": "markdown",
   "id": "ebc37ff9-4acc-4ce8-b411-be12b766c0f1",
   "metadata": {},
   "source": [
    "# What We Can learn/ Why we Doing this - 4\n",
    "In my view, all data points except for the lowest outlier in the start date column are valid, and the distribution is skewed towards the right. Regarding the end date column, I suggest disregarding any dates before 2011 as there may have been no data collection at that time based on the distribution frequency. As for the 1963 start date, it seems unlikely that a single employee worked for almost a decade in the 1960s and resigned in the 2010s, although it is not impossible. Another possibility is that this data point represents the only employee who was still working from the 1960s until the 2010s, and then decided to resign.\n",
    "\n",
    "Hence,Acorrding to the DataQuest Lecturer\n",
    "1. There aren't any major issues with the years.\n",
    "2. The years in each dataframe don't span quite the same number of years. We'll leave it up to your discretion to drop any years you don't think are needed for the analysis.\n",
    "\n",
    "\n",
    "\n",
    "\n",
    "\n"
   ]
  },
  {
   "cell_type": "code",
   "execution_count": null,
   "id": "e66250de-34d4-485a-9f79-af4e47a56227",
   "metadata": {},
   "outputs": [],
   "source": []
  },
  {
   "cell_type": "markdown",
   "id": "1cd53b30-1032-4512-af5d-5cbc1027f83c",
   "metadata": {},
   "source": [
    "# 6 of 11 · Create a New Column\n",
    "Now that we've verified the years in the dete_resignations dataframe, we'll use them to create a new column. Recall that our end goal is to answer the following question:\n",
    "\n",
    "- Are employees who have only worked for the institutes for a short period of time resigning due to some kind of dissatisfaction? What about employees who have been at the job longer?\n",
    "\n",
    "In the Human Resources field, the length of time an employee spent in a workplace is referred to as their years of service.\n",
    "\n",
    "You may have noticed that the `tafe_resignations` dataframe already contains a \"`service`\" column, which we renamed to institute_service. In order to analyze both surveys together, we'll have to create a corresponding `institute_service` column in `dete_resignations`."
   ]
  },
  {
   "cell_type": "code",
   "execution_count": 22,
   "id": "e6552d61-16d3-4fd5-9f83-5d6ca450fe1e",
   "metadata": {},
   "outputs": [
    {
     "data": {
      "text/plain": [
       "3      7.0\n",
       "5     18.0\n",
       "8      3.0\n",
       "9     15.0\n",
       "11     3.0\n",
       "Name: institute_service, dtype: float64"
      ]
     },
     "execution_count": 22,
     "metadata": {},
     "output_type": "execute_result"
    }
   ],
   "source": [
    "# Calculate the length of time an employee spent in their respective workplace and create a new column\n",
    "dete_resignations['institute_service'] = dete_resignations['cease_date'] - dete_resignations['dete_start_date']\n",
    "\n",
    "# Quick check of the result\n",
    "dete_resignations['institute_service'].head()"
   ]
  },
  {
   "cell_type": "code",
   "execution_count": 24,
   "id": "dd91ded9-257d-4d76-9f07-72bc07a7d75b",
   "metadata": {},
   "outputs": [
    {
     "data": {
      "text/plain": [
       "-                      270\n",
       "Job Dissatisfaction     62\n",
       "Name: Contributing Factors. Job Dissatisfaction, dtype: int64"
      ]
     },
     "execution_count": 24,
     "metadata": {},
     "output_type": "execute_result"
    }
   ],
   "source": [
    "tafe_resignations['Contributing Factors. Dissatisfaction'].value_counts()\n",
    "tafe_resignations['Contributing Factors. Job Dissatisfaction'].value_counts()\n"
   ]
  },
  {
   "cell_type": "code",
   "execution_count": 25,
   "id": "d9287f3a-cd3c-4b3c-9f0a-f5ad3fe7b8f9",
   "metadata": {},
   "outputs": [
    {
     "data": {
      "text/plain": [
       "False    241\n",
       "True      99\n",
       "Name: dissatisfied, dtype: int64"
      ]
     },
     "execution_count": 25,
     "metadata": {},
     "output_type": "execute_result"
    }
   ],
   "source": [
    "# Update the values in the contributing factors columns to be either True, False, or NaN\n",
    "def update_vals(x):\n",
    "    if x == '-':\n",
    "        return False\n",
    "    elif pd.isnull(x):\n",
    "        return np.nan\n",
    "    else:\n",
    "        return True\n",
    "tafe_resignations['dissatisfied'] = tafe_resignations[['Contributing Factors. Dissatisfaction', 'Contributing Factors. Job Dissatisfaction']].applymap(update_vals).any(1, skipna=False)\n",
    "tafe_resignations_up = tafe_resignations.copy()\n",
    "\n",
    "# Check the unique values after the updates\n",
    "tafe_resignations_up['dissatisfied'].value_counts(dropna=False)"
   ]
  },
  {
   "cell_type": "code",
   "execution_count": 26,
   "id": "68ff3ff3-f7f8-4f5e-8a83-54e2717d75f4",
   "metadata": {},
   "outputs": [
    {
     "data": {
      "text/plain": [
       "False    162\n",
       "True     149\n",
       "Name: dissatisfied, dtype: int64"
      ]
     },
     "execution_count": 26,
     "metadata": {},
     "output_type": "execute_result"
    }
   ],
   "source": [
    "# Update the values in columns related to dissatisfaction to be either True, False, or NaN\n",
    "dete_resignations['dissatisfied'] = dete_resignations[['job_dissatisfaction',\n",
    "       'dissatisfaction_with_the_department', 'physical_work_environment',\n",
    "       'lack_of_recognition', 'lack_of_job_security', 'work_location',\n",
    "       'employment_conditions', 'work_life_balance',\n",
    "       'workload']].any(1, skipna=False)\n",
    "dete_resignations_up = dete_resignations.copy()\n",
    "dete_resignations_up['dissatisfied'].value_counts(dropna=False)"
   ]
  },
  {
   "cell_type": "code",
   "execution_count": 27,
   "id": "8969a1ab-3f06-4337-974e-4c986edfc407",
   "metadata": {},
   "outputs": [],
   "source": [
    "# Add an institute column\n",
    "dete_resignations_up['institute'] = 'DETE'\n",
    "tafe_resignations_up['institute'] = 'TAFE'"
   ]
  },
  {
   "cell_type": "code",
   "execution_count": 28,
   "id": "e284a58e-0210-49f1-9ce3-0d95cb548e54",
   "metadata": {},
   "outputs": [
    {
     "data": {
      "text/plain": [
       "torres_strait                                            0\n",
       "south_sea                                                3\n",
       "aboriginal                                               7\n",
       "disability                                               8\n",
       "nesb                                                     9\n",
       "business_unit                                           32\n",
       "classification                                         161\n",
       "region                                                 265\n",
       "role_start_date                                        271\n",
       "dete_start_date                                        283\n",
       "role_service                                           290\n",
       "none_of_the_above                                      311\n",
       "work_life_balance                                      311\n",
       "traumatic_incident                                     311\n",
       "ill_health                                             311\n",
       "study/travel                                           311\n",
       "relocation                                             311\n",
       "maternity/family                                       311\n",
       "employment_conditions                                  311\n",
       "workload                                               311\n",
       "lack_of_job_security                                   311\n",
       "career_move_to_public_sector                           311\n",
       "career_move_to_private_sector                          311\n",
       "interpersonal_conflicts                                311\n",
       "work_location                                          311\n",
       "dissatisfaction_with_the_department                    311\n",
       "physical_work_environment                              311\n",
       "lack_of_recognition                                    311\n",
       "job_dissatisfaction                                    311\n",
       "Contributing Factors. Job Dissatisfaction              332\n",
       "Contributing Factors. Travel                           332\n",
       "Contributing Factors. Maternity/Family                 332\n",
       "Contributing Factors. Ill Health                       332\n",
       "Contributing Factors. Career Move - Self-employment    332\n",
       "Contributing Factors. Career Move - Private Sector     332\n",
       "Contributing Factors. Career Move - Public Sector      332\n",
       "Contributing Factors. Dissatisfaction                  332\n",
       "Contributing Factors. Other                            332\n",
       "Contributing Factors. Interpersonal Conflict           332\n",
       "Contributing Factors. NONE                             332\n",
       "Contributing Factors. Study                            332\n",
       "Institute                                              340\n",
       "WorkArea                                               340\n",
       "institute_service                                      563\n",
       "gender                                                 592\n",
       "age                                                    596\n",
       "employment_status                                      597\n",
       "position                                               598\n",
       "cease_date                                             635\n",
       "dissatisfied                                           651\n",
       "separationtype                                         651\n",
       "institute                                              651\n",
       "id                                                     651\n",
       "dtype: int64"
      ]
     },
     "execution_count": 28,
     "metadata": {},
     "output_type": "execute_result"
    }
   ],
   "source": [
    "# Combine the dataframes\n",
    "combined = pd.concat([dete_resignations_up, tafe_resignations_up], ignore_index=True)\n",
    "\n",
    "# Verify the number of non null values in each column\n",
    "combined.notnull().sum().sort_values()"
   ]
  },
  {
   "cell_type": "code",
   "execution_count": 29,
   "id": "18b116b6-290d-44d1-aa54-1ee9defdf655",
   "metadata": {},
   "outputs": [],
   "source": [
    "combined_updated = combined.dropna(thresh = 500, axis =1).copy()\n"
   ]
  },
  {
   "cell_type": "code",
   "execution_count": 30,
   "id": "97c4d253-0ead-4ed7-97f1-f2569094ddf5",
   "metadata": {},
   "outputs": [
    {
     "data": {
      "text/plain": [
       "NaN                   88\n",
       "Less than 1 year      73\n",
       "1-2                   64\n",
       "3-4                   63\n",
       "5-6                   33\n",
       "11-20                 26\n",
       "5.0                   23\n",
       "1.0                   22\n",
       "7-10                  21\n",
       "3.0                   20\n",
       "0.0                   20\n",
       "6.0                   17\n",
       "4.0                   16\n",
       "9.0                   14\n",
       "2.0                   14\n",
       "7.0                   13\n",
       "More than 20 years    10\n",
       "13.0                   8\n",
       "8.0                    8\n",
       "15.0                   7\n",
       "20.0                   7\n",
       "10.0                   6\n",
       "14.0                   6\n",
       "12.0                   6\n",
       "17.0                   6\n",
       "22.0                   6\n",
       "18.0                   5\n",
       "16.0                   5\n",
       "11.0                   4\n",
       "23.0                   4\n",
       "24.0                   4\n",
       "32.0                   3\n",
       "39.0                   3\n",
       "19.0                   3\n",
       "21.0                   3\n",
       "36.0                   2\n",
       "25.0                   2\n",
       "30.0                   2\n",
       "26.0                   2\n",
       "28.0                   2\n",
       "49.0                   1\n",
       "41.0                   1\n",
       "27.0                   1\n",
       "42.0                   1\n",
       "29.0                   1\n",
       "34.0                   1\n",
       "31.0                   1\n",
       "33.0                   1\n",
       "35.0                   1\n",
       "38.0                   1\n",
       "Name: institute_service, dtype: int64"
      ]
     },
     "execution_count": 30,
     "metadata": {},
     "output_type": "execute_result"
    }
   ],
   "source": [
    "combined_updated['institute_service'].value_counts(dropna=False)\n"
   ]
  },
  {
   "cell_type": "markdown",
   "id": "11290428-47d1-4cb5-a97f-6e371f03941c",
   "metadata": {},
   "source": [
    "In the last screen, we created a new `institute_service` column that we'll use to analyze survey respondents according to their length of employment.Next, we'll identify any employees who resigned because they were dissatisfied.\n",
    "\n"
   ]
  },
  {
   "cell_type": "markdown",
   "id": "57f2678d-8c84-4254-b71c-70d788bb82f5",
   "metadata": {},
   "source": [
    "# 7 of 11 · Identify Dissatisfied Employees\n",
    "\n",
    "Below are the columns we'll use to categorize employees as \"dissatisfied\" from each dataframe. If you disagree, feel free to modify them! Just make sure you explain why you made that decision.\n",
    "\n",
    "tafe_survey_updated:\n",
    "- Contributing Factors. Dissatisfaction\n",
    "- Contributing Factors. Job Dissatisfaction\n",
    "\n",
    "dete_survey_updated:\n",
    "- job_dissatisfaction\n",
    "- dissatisfaction_with_the_department\n",
    "- physical_work_environment\n",
    "- lack_of_recognition\n",
    "- lack_of_job_security\n",
    "- work_location\n",
    "- employment_conditions\n",
    "- work_life_balance\n",
    "- workload\n",
    "\n",
    "If the employee indicated any of the factors above caused them to resign, we'll mark them as dissatisfied in a new column. After our changes, the new dissatisfied column will contain just the following values:\n",
    "\n",
    "- `True`: indicates a person resigned because they were dissatisfied in some way\n",
    "- `False`: indicates a person resigned because of a reason other than dissatisfaction with the job\n",
    "- `NaN`: indicates the value is missing"
   ]
  },
  {
   "cell_type": "code",
   "execution_count": 35,
   "id": "26e6af26-e1fb-4e3d-9a41-be3b446d0e3a",
   "metadata": {},
   "outputs": [
    {
     "data": {
      "text/plain": [
       "-                      270\n",
       "Job Dissatisfaction     62\n",
       "Name: Contributing Factors. Job Dissatisfaction, dtype: int64"
      ]
     },
     "execution_count": 35,
     "metadata": {},
     "output_type": "execute_result"
    }
   ],
   "source": [
    "# Step - 1 'Contributing Factors. Dissatisfaction' and 'Contributing Factors. Job Dissatisfaction' in the tafe_resignations dataframe.\n",
    "tafe_resignations['Contributing Factors. Dissatisfaction'].value_counts()\n",
    "\n",
    "#Check_OTher _unique Value\n",
    "tafe_resignations['Contributing Factors. Job Dissatisfaction'].value_counts()\n"
   ]
  },
  {
   "cell_type": "code",
   "execution_count": 34,
   "id": "12937592-7f9d-46e0-950d-7d8124e8c70e",
   "metadata": {},
   "outputs": [
    {
     "data": {
      "text/plain": [
       "1.0     159\n",
       "3.0      83\n",
       "5.0      56\n",
       "7.0      34\n",
       "11.0     30\n",
       "0.0      20\n",
       "20.0     17\n",
       "6.0      17\n",
       "4.0      16\n",
       "9.0      14\n",
       "2.0      14\n",
       "13.0      8\n",
       "8.0       8\n",
       "15.0      7\n",
       "17.0      6\n",
       "10.0      6\n",
       "22.0      6\n",
       "14.0      6\n",
       "12.0      6\n",
       "18.0      5\n",
       "16.0      5\n",
       "24.0      4\n",
       "23.0      4\n",
       "21.0      3\n",
       "19.0      3\n",
       "39.0      3\n",
       "32.0      3\n",
       "25.0      2\n",
       "28.0      2\n",
       "26.0      2\n",
       "36.0      2\n",
       "30.0      2\n",
       "34.0      1\n",
       "27.0      1\n",
       "29.0      1\n",
       "42.0      1\n",
       "33.0      1\n",
       "41.0      1\n",
       "35.0      1\n",
       "49.0      1\n",
       "38.0      1\n",
       "31.0      1\n",
       "Name: institute_service_up, dtype: int64"
      ]
     },
     "execution_count": 34,
     "metadata": {},
     "output_type": "execute_result"
    }
   ],
   "source": [
    "# Extract the years of service and convert the type to float\n",
    "combined_updated['institute_service_up'] = combined_updated['institute_service'].astype('str').str.extract(r'(\\d+)')\n",
    "combined_updated['institute_service_up'] = combined_updated['institute_service_up'].astype('float')\n",
    "\n",
    "# Check the years extracted are correct\n",
    "combined_updated['institute_service_up'].value_counts()"
   ]
  },
  {
   "cell_type": "code",
   "execution_count": 36,
   "id": "a02164f2-190a-4e5b-8889-c862a26e2ac5",
   "metadata": {},
   "outputs": [
    {
     "data": {
      "text/plain": [
       "New            193\n",
       "Experienced    172\n",
       "Veteran        136\n",
       "Established     62\n",
       "Name: service_cat, dtype: int64"
      ]
     },
     "execution_count": 36,
     "metadata": {},
     "output_type": "execute_result"
    }
   ],
   "source": [
    "# Convert years of service to categories\n",
    "def transform_service(val):\n",
    "    if val >= 11:\n",
    "        return \"Veteran\"\n",
    "    elif 7 <= val < 11:\n",
    "        return \"Established\"\n",
    "    elif 3 <= val < 7:\n",
    "        return \"Experienced\"\n",
    "    elif pd.isnull(val):\n",
    "        return np.nan\n",
    "    else:\n",
    "        return \"New\"\n",
    "combined_updated['service_cat'] = combined_updated['institute_service_up'].apply(transform_service)\n",
    "\n",
    "# Quick check of the update\n",
    "combined_updated['service_cat'].value_counts()"
   ]
  },
  {
   "cell_type": "code",
   "execution_count": 246,
   "id": "048f999f-24b1-4e0e-a77d-68d7378b95f4",
   "metadata": {},
   "outputs": [
    {
     "data": {
      "text/plain": [
       "False    162\n",
       "True     149\n",
       "Name: dissatisfied, dtype: int64"
      ]
     },
     "execution_count": 246,
     "metadata": {},
     "output_type": "execute_result"
    }
   ],
   "source": [
    "# Update the values in columns related to dissatisfaction to be either True, False, or NaN\n",
    "dete_resignations['dissatisfied'] = dete_resignations[['job_dissatisfaction',\n",
    "       'dissatisfaction_with_the_department', 'physical_work_environment',\n",
    "       'lack_of_recognition', 'lack_of_job_security', 'work_location',\n",
    "       'employment_conditions', 'work_life_balance',\n",
    "       'workload']].any(1, skipna=False)\n",
    "dete_resignations_up = dete_resignations.copy()\n",
    "dete_resignations_up['dissatisfied'].value_counts(dropna=False)"
   ]
  },
  {
   "cell_type": "markdown",
   "id": "b4dc826e-4241-4ecb-ad49-c834d4beaf8e",
   "metadata": {},
   "source": [
    "# 8 of 11 · Combine the Data\n",
    "\n",
    "To recap, we've accomplished the following:\n",
    "\n",
    "- Renamed our columns\n",
    "- Dropped any data not needed for our analysis\n",
    "- Verified the quality of our data\n",
    "- Created a new institute_service column\n",
    "- Cleaned the Contributing Factors columns\n",
    "- Created a new column indicating if an employee resigned because they were dissatisfied in some way\n",
    "\n",
    "\n",
    "Now, we're finally ready to combine our datasets! Our end goal is to aggregate the data according to the institute_service column, so when you combine the data, think about how to get the data into a form that's easy to aggregate.\n",
    "\n"
   ]
  },
  {
   "cell_type": "code",
   "execution_count": 275,
   "id": "f1c5a462-58d3-4548-a456-5f50074150f9",
   "metadata": {},
   "outputs": [],
   "source": [
    "dete_resignations_up['institute'] = 'DETE'\n",
    "tafe_resignations_up['institute'] = 'TAFE'\n",
    "\n",
    "\n",
    "\n",
    "combined = pd.concat([dete_resignations_up,tafe_resignations_up],ignore_index= True)\n",
    "\n",
    "#Lets See the not Null\n",
    "combined.notnull().sum().sort_values()\n",
    "\n",
    "\n",
    "# lets combined with thres() method\n",
    "combined_updated = combined.dropna(thresh = 500, axis =1).copy()"
   ]
  },
  {
   "cell_type": "code",
   "execution_count": null,
   "id": "1684a7fc-f45b-4b53-8acf-bbeb747693ca",
   "metadata": {},
   "outputs": [],
   "source": []
  },
  {
   "cell_type": "markdown",
   "id": "68be93b5-0865-4c8a-b8d2-c0bde64274e2",
   "metadata": {},
   "source": [
    "# 9 of 11 · Clean the Service Column\n",
    "\n",
    "To analyze the data, we'll convert these numbers into categories. We'll base our analysis on this article, which makes the argument that understanding employee's needs according to career stage instead of age is more effective.\n",
    "\n",
    "We'll use the slightly modified definitions below:\n",
    "\n",
    "- New: Less than 3 years at a company\n",
    "- Experienced: 3-6 years at a company\n",
    "- Established: 7-10 years at a company\n",
    "- Veteran: 11 or more years at a company"
   ]
  },
  {
   "cell_type": "code",
   "execution_count": 37,
   "id": "409b4a92-2517-46f4-b320-cfb8b1ed68d0",
   "metadata": {},
   "outputs": [
    {
     "data": {
      "text/plain": [
       "1.0     159\n",
       "3.0      83\n",
       "5.0      56\n",
       "7.0      34\n",
       "11.0     30\n",
       "0.0      20\n",
       "20.0     17\n",
       "6.0      17\n",
       "4.0      16\n",
       "9.0      14\n",
       "2.0      14\n",
       "13.0      8\n",
       "8.0       8\n",
       "15.0      7\n",
       "17.0      6\n",
       "10.0      6\n",
       "22.0      6\n",
       "14.0      6\n",
       "12.0      6\n",
       "18.0      5\n",
       "16.0      5\n",
       "24.0      4\n",
       "23.0      4\n",
       "21.0      3\n",
       "19.0      3\n",
       "39.0      3\n",
       "32.0      3\n",
       "25.0      2\n",
       "28.0      2\n",
       "26.0      2\n",
       "36.0      2\n",
       "30.0      2\n",
       "34.0      1\n",
       "27.0      1\n",
       "29.0      1\n",
       "42.0      1\n",
       "33.0      1\n",
       "41.0      1\n",
       "35.0      1\n",
       "49.0      1\n",
       "38.0      1\n",
       "31.0      1\n",
       "Name: institute_service_up, dtype: int64"
      ]
     },
     "execution_count": 37,
     "metadata": {},
     "output_type": "execute_result"
    }
   ],
   "source": [
    "# Extract the years of service and convert the type to float\n",
    "combined_updated['institute_service_up'] = combined_updated['institute_service'].astype('str').str.extract(r'(\\d+)')\n",
    "combined_updated['institute_service_up'] = combined_updated['institute_service_up'].astype('float')\n",
    "\n",
    "# Check the years extracted are correct\n",
    "combined_updated['institute_service_up'].value_counts()"
   ]
  },
  {
   "cell_type": "code",
   "execution_count": 38,
   "id": "ea3d3b1f-b15d-4d1d-8583-af343d518d24",
   "metadata": {},
   "outputs": [
    {
     "data": {
      "text/plain": [
       "New            193\n",
       "Experienced    172\n",
       "Veteran        136\n",
       "Established     62\n",
       "Name: service_cat, dtype: int64"
      ]
     },
     "execution_count": 38,
     "metadata": {},
     "output_type": "execute_result"
    }
   ],
   "source": [
    "# Convert years of service to categories\n",
    "def transform_service(val):\n",
    "    if val >= 11:\n",
    "        return \"Veteran\"\n",
    "    elif 7 <= val < 11:\n",
    "        return \"Established\"\n",
    "    elif 3 <= val < 7:\n",
    "        return \"Experienced\"\n",
    "    elif pd.isnull(val):\n",
    "        return np.nan\n",
    "    else:\n",
    "        return \"New\"\n",
    "combined_updated['service_cat'] = combined_updated['institute_service_up'].apply(transform_service)\n",
    "\n",
    "# Quick check of the update\n",
    "combined_updated['service_cat'].value_counts()"
   ]
  },
  {
   "cell_type": "markdown",
   "id": "5d156f36-188a-4e80-b21c-6ec56a8ae7fb",
   "metadata": {},
   "source": [
    "# 10 of 11 · Perform Initial Analysis\n",
    "\n",
    "Now, let's finally do our first piece of analysis! We'll help you fill in missing values in the dissatisfied column and then aggregate the data to get you started, but note that we still have additional missing values left to deal with. This is meant to be an initial introduction to the analysis, not the final analysis.\n",
    "\n",
    "Recall that the dissatisfied column consists of Boolean values, meaning they're either True or False. Methods such as the df.pivot_table() method actually treat Boolean values as integers, so a True value is considered to be 1 and a False value is considered to be 0. That means that we can aggregate the dissatisfied column and calculate the number of people in each group, the percentage of people in each group, etc."
   ]
  },
  {
   "cell_type": "code",
   "execution_count": 39,
   "id": "75b9713a-738e-4048-885c-996d3bb28c83",
   "metadata": {},
   "outputs": [
    {
     "data": {
      "text/plain": [
       "False    403\n",
       "True     248\n",
       "Name: dissatisfied, dtype: int64"
      ]
     },
     "execution_count": 39,
     "metadata": {},
     "output_type": "execute_result"
    }
   ],
   "source": [
    "combined_updated['dissatisfied'].value_counts(dropna=False)\n"
   ]
  },
  {
   "cell_type": "code",
   "execution_count": 40,
   "id": "94adfd74-f2eb-4f63-be63-4fadaa32a6f2",
   "metadata": {},
   "outputs": [
    {
     "data": {
      "text/plain": [
       "<AxesSubplot:xlabel='service_cat'>"
      ]
     },
     "execution_count": 40,
     "metadata": {},
     "output_type": "execute_result"
    },
    {
     "data": {
      "image/png": "[encoded data removed]",
      "text/plain": [
       "<Figure size 432x288 with 1 Axes>"
      ]
     },
     "metadata": {
      "needs_background": "light"
     },
     "output_type": "display_data"
    }
   ],
   "source": [
    "# Calculate the percentage of employees who resigned due to dissatisfaction in each category\n",
    "dis_pct = combined_updated.pivot_table(index='service_cat', values='dissatisfied')\n",
    "\n",
    "# Plot the results\n",
    "%matplotlib inline\n",
    "dis_pct.plot(kind='bar', rot=30)"
   ]
  },
  {
   "cell_type": "markdown",
   "id": "bdbb66dd-286e-42d9-a974-e8339ea67523",
   "metadata": {},
   "source": [
    "# Conclusion\n",
    "\n",
    "From the initial analysis above, we can tentatively conclude that employees with 7 or more years of service are more likely to resign due to some kind of dissatisfaction with the job than employees with less than 7 years of service. However, we need to handle the rest of the missing data to finalize our analysis."
   ]
  },
  {
   "cell_type": "code",
   "execution_count": 41,
   "id": "0d90ef0f-fd01-4ee8-8b2c-834889a5588d",
   "metadata": {},
   "outputs": [],
   "source": [
    "# MY research\n"
   ]
  },
  {
   "cell_type": "code",
   "execution_count": 42,
   "id": "b3075290-0739-4246-805e-f930cefeae60",
   "metadata": {},
   "outputs": [
    {
     "data": {
      "text/plain": [
       "51-55            71\n",
       "NaN              55\n",
       "41-45            48\n",
       "41  45           45\n",
       "46-50            42\n",
       "36-40            41\n",
       "46  50           39\n",
       "26-30            35\n",
       "21  25           33\n",
       "36  40           32\n",
       "31  35           32\n",
       "26  30           32\n",
       "21-25            29\n",
       "31-35            29\n",
       "56 or older      29\n",
       "56-60            26\n",
       "61 or older      23\n",
       "20 or younger    10\n",
       "Name: age, dtype: int64"
      ]
     },
     "execution_count": 42,
     "metadata": {},
     "output_type": "execute_result"
    }
   ],
   "source": [
    "combined_updated['age'].value_counts(dropna=False)\n"
   ]
  },
  {
   "cell_type": "code",
   "execution_count": 43,
   "id": "f4bbd177-8493-4943-ad49-6ac058d509a4",
   "metadata": {},
   "outputs": [],
   "source": [
    "combined_updated['age'] = combined_updated['age'].astype('str')\n"
   ]
  },
  {
   "cell_type": "code",
   "execution_count": 46,
   "id": "57f23250-4b3e-4d3c-876b-c246161f0a1f",
   "metadata": {},
   "outputs": [],
   "source": [
    "def age(s):\n",
    "    if s[0] == '2':\n",
    "        return '20s'\n",
    "    elif s[0] == '3':\n",
    "        return '30s'\n",
    "    elif s[0] == '4':\n",
    "        return '40s'\n",
    "    elif s[0] == '5':\n",
    "        return '50s'\n",
    "    elif s[0] == '6':\n",
    "        return '60s'\n",
    "    elif s == 'nan':\n",
    "        return np.nan"
   ]
  },
  {
   "cell_type": "code",
   "execution_count": 47,
   "id": "bbefa407-5d26-49df-bb25-df040a2f878a",
   "metadata": {},
   "outputs": [],
   "source": [
    "combined_updated['age'] = combined_updated['age'].apply(age)"
   ]
  },
  {
   "cell_type": "code",
   "execution_count": 48,
   "id": "45fb184b-ae6b-4d29-9bb7-4d424cf4caa6",
   "metadata": {},
   "outputs": [
    {
     "data": {
      "text/plain": [
       "40s    174\n",
       "20s    139\n",
       "30s    134\n",
       "50s    126\n",
       "60s     23\n",
       "Name: age, dtype: int64"
      ]
     },
     "execution_count": 48,
     "metadata": {},
     "output_type": "execute_result"
    }
   ],
   "source": [
    "combined_updated['age'].value_counts()"
   ]
  },
  {
   "cell_type": "code",
   "execution_count": 50,
   "id": "681da118-e81b-4d81-8dd5-d2ba5df6fe54",
   "metadata": {},
   "outputs": [
    {
     "data": {
      "text/plain": [
       "<AxesSubplot:ylabel='age'>"
      ]
     },
     "execution_count": 50,
     "metadata": {},
     "output_type": "execute_result"
    },
    {
     "data": {
      "image/png": "[encoded data removed]",
      "text/plain": [
       "<Figure size 720x720 with 1 Axes>"
      ]
     },
     "metadata": {
      "needs_background": "light"
     },
     "output_type": "display_data"
    }
   ],
   "source": [
    "# Lets Populate Together with Bar to show whats the best shown \n",
    "age_perc = pd.pivot_table(combined_updated, index='age', values='dissatisfied')\n",
    "age_perc = age_perc.sort_values(by=['dissatisfied'])\n",
    "age_perc.plot(kind='barh', legend=False, figsize=(10,10), fontsize=12)"
   ]
  },
  {
   "cell_type": "markdown",
   "id": "90eb6be2-9d1a-443c-826e-94fbe99997f7",
   "metadata": {},
   "source": [
    "In the charts above we see:\n",
    "\n",
    "1. The number of people in each age group who resigned due to dissatisfaction.\n",
    "2. The percent of people in each age group who resigned due to dissatisfaction.\n",
    "\n",
    "Overall, the number of young employees of the two institues who resigned due to job dissatisfaction is lowest. This might be due to the fact that they were early in their career development and were still looking for a career path to follow."
   ]
  },
  {
   "cell_type": "markdown",
   "id": "60ff8d89-6a0d-4267-8976-0c6cad6e4e1b",
   "metadata": {},
   "source": [
    "# Dissatisfied by institute\n",
    "Lets also explore how many percentage the  Dissatisfied by institute\n"
   ]
  },
  {
   "cell_type": "code",
   "execution_count": 51,
   "id": "eb702953-7153-4d22-a810-ec382b60f3f2",
   "metadata": {},
   "outputs": [
    {
     "data": {
      "text/plain": [
       "<AxesSubplot:xlabel='institute'>"
      ]
     },
     "execution_count": 51,
     "metadata": {},
     "output_type": "execute_result"
    },
    {
     "data": {
      "image/png": "[encoded data removed]",
      "text/plain": [
       "<Figure size 720x360 with 1 Axes>"
      ]
     },
     "metadata": {
      "needs_background": "light"
     },
     "output_type": "display_data"
    }
   ],
   "source": [
    "by_perc = pd.pivot_table(combined_updated, index='institute', values='dissatisfied')\n",
    "by_perc.plot(kind='bar', rot=360, figsize=(10,5), fontsize=12, legend=False)"
   ]
  },
  {
   "cell_type": "code",
   "execution_count": 54,
   "id": "e734ac44-6659-4ff4-ab11-c371d08925ec",
   "metadata": {},
   "outputs": [
    {
     "data": {
      "text/plain": [
       "<AxesSubplot:ylabel='employment_status'>"
      ]
     },
     "execution_count": 54,
     "metadata": {},
     "output_type": "execute_result"
    },
    {
     "data": {
      "image/png": "[encoded data removed]",
      "text/plain": [
       "<Figure size 720x360 with 1 Axes>"
      ]
     },
     "metadata": {
      "needs_background": "light"
     },
     "output_type": "display_data"
    }
   ],
   "source": [
    "by_status = pd.pivot_table(combined_updated, index='employment_status', values='dissatisfied')\n",
    "by_status = by_status.sort_values(by=['dissatisfied'])\n",
    "by_status.plot(kind='barh', figsize=(10,5), fontsize=12, legend=False)\n"
   ]
  },
  {
   "cell_type": "markdown",
   "id": "8ae0e547-a8a2-4d03-a685-0ebb479ca313",
   "metadata": {},
   "source": [
    "We Can See that The Permanent Full tiem tends to retired.this due because the Corelations Age and others\n"
   ]
  },
  {
   "cell_type": "code",
   "execution_count": 60,
   "id": "ffe5ca17-396d-4c92-b751-0a66bc311808",
   "metadata": {},
   "outputs": [
    {
     "data": {
      "text/plain": [
       "<AxesSubplot:ylabel='position'>"
      ]
     },
     "execution_count": 60,
     "metadata": {},
     "output_type": "execute_result"
    },
    {
     "data": {
      "image/png": "[encoded data removed]",
      "text/plain": [
       "<Figure size 720x360 with 1 Axes>"
      ]
     },
     "metadata": {
      "needs_background": "light"
     },
     "output_type": "display_data"
    }
   ],
   "source": [
    "by_status = pd.pivot_table(combined_updated, index='position', values='dissatisfied')\n",
    "by_status = by_status.sort_values(by=['dissatisfied'])\n",
    "by_status.plot(kind='barh', figsize=(10,5), fontsize=12, legend=False)\n"
   ]
  },
  {
   "cell_type": "code",
   "execution_count": null,
   "id": "7d6e1ca1-7688-4895-ae10-a60c76e7c640",
   "metadata": {},
   "outputs": [],
   "source": [
    "# Lets se"
   ]
  }
 ],
 "metadata": {
  "kernelspec": {
   "display_name": "Python 3 (ipykernel)",
   "language": "python",
   "name": "python3"
  },
  "language_info": {
   "codemirror_mode": {
    "name": "ipython",
    "version": 3
   },
   "file_extension": ".py",
   "mimetype": "text/x-python",
   "name": "python",
   "nbconvert_exporter": "python",
   "pygments_lexer": "ipython3",
   "version": "3.9.12"
  }
 },
 "nbformat": 4,
 "nbformat_minor": 5
}
